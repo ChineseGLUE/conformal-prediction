{
 "cells": [
  {
   "cell_type": "code",
   "execution_count": 2,
   "metadata": {},
   "outputs": [],
   "source": [
    "import os\n",
    "import numpy as np"
   ]
  },
  {
   "cell_type": "code",
   "execution_count": 9,
   "metadata": {},
   "outputs": [],
   "source": [
    "# Load cached data\n",
    "data = np.load('../data/imagenet/imagenet-resnet152.npz')\n",
    "example_paths = os.listdir('../data/imagenet/examples')\n",
    "scores = data['arr_0']\n",
    "labels = data['arr_1']"
   ]
  },
  {
   "cell_type": "code",
   "execution_count": 27,
   "metadata": {},
   "outputs": [],
   "source": [
    "# Problem setup\n",
    "n=1000 # number of calibration points\n",
    "alpha = 0.1 # 1-alpha is the desired coverage"
   ]
  },
  {
   "cell_type": "code",
   "execution_count": 38,
   "metadata": {},
   "outputs": [],
   "source": [
    "# Split the softmax scores into calibration and validation sets (save the shuffling)\n",
    "idx = np.array([1] * n + [0] * (scores.shape[0]-n)) > 0\n",
    "np.random.shuffle(idx)\n",
    "cal_scores, val_scores = scores[idx,:], scores[~idx,:]\n",
    "cal_labels, val_labels = labels[idx], labels[~idx]"
   ]
  },
  {
   "cell_type": "code",
   "execution_count": 39,
   "metadata": {},
   "outputs": [],
   "source": [
    "# Calculate conformal scores (the least Ambiguous Classifier score)\n",
    "cal_conformal = 1-cal_scores[np.arange(n),cal_labels.astype(int)]\n",
    "qhat = np.quantile(cal_conformal, np.ceil((n+1)*(1-alpha))/n, interpolation='higher')"
   ]
  },
  {
   "cell_type": "code",
   "execution_count": 40,
   "metadata": {},
   "outputs": [
    {
     "data": {
      "text/plain": [
       "array([[False, False, False, ..., False, False, False],\n",
       "       [False, False, False, ..., False, False, False],\n",
       "       [False, False, False, ..., False, False, False],\n",
       "       ...,\n",
       "       [ True,  True,  True, ...,  True,  True,  True],\n",
       "       [ True,  True,  True, ...,  True,  True,  True],\n",
       "       [ True,  True,  True, ...,  True,  True,  True]])"
      ]
     },
     "execution_count": 40,
     "metadata": {},
     "output_type": "execute_result"
    }
   ],
   "source": [
    "# Calculate prediction sets\n",
    "val_scores >= 1-qhat"
   ]
  }
 ],
 "metadata": {
  "kernelspec": {
   "display_name": "Python 3.6.9 64-bit ('basic': conda)",
   "language": "python",
   "name": "python36964bitbasicconda2f330b40945f4990b03a9eb96a215891"
  },
  "language_info": {
   "codemirror_mode": {
    "name": "ipython",
    "version": 3
   },
   "file_extension": ".py",
   "mimetype": "text/x-python",
   "name": "python",
   "nbconvert_exporter": "python",
   "pygments_lexer": "ipython3",
   "version": "3.6.9"
  }
 },
 "nbformat": 4,
 "nbformat_minor": 4
}
