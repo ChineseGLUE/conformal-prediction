{
 "cells": [
  {
   "cell_type": "code",
   "execution_count": 1,
   "metadata": {},
   "outputs": [],
   "source": [
    "import os\n",
    "import json\n",
    "import numpy as np\n",
    "import matplotlib.pyplot as plt\n",
    "from matplotlib.image import imread\n",
    "import seaborn as sns"
   ]
  },
  {
   "cell_type": "code",
   "execution_count": 2,
   "metadata": {},
   "outputs": [],
   "source": [
    "# Load cached data\n",
    "data = np.load('../data/meps/meps-gbr.npz')\n",
    "X, labels, upper, lower = data['X'], data['y'], data['upper'], data['lower']"
   ]
  },
  {
   "cell_type": "code",
   "execution_count": 3,
   "metadata": {},
   "outputs": [],
   "source": [
    "# Problem setup\n",
    "n=1000 # number of calibration points\n",
    "alpha = 0.1 # 1-alpha is the desired coverage"
   ]
  },
  {
   "cell_type": "code",
   "execution_count": 4,
   "metadata": {},
   "outputs": [],
   "source": [
    "# Split the softmax scores into calibration and validation sets (save the shuffling)\n",
    "idx = np.array([1] * n + [0] * (labels.shape[0]-n)) > 0\n",
    "np.random.shuffle(idx)\n",
    "cal_labels, val_labels = labels[idx], labels[~idx]\n",
    "cal_upper, val_upper = upper[idx], upper[~idx]\n",
    "cal_lower, val_lower = lower[idx], lower[~idx]\n",
    "val_X = X[~idx]"
   ]
  },
  {
   "cell_type": "code",
   "execution_count": 5,
   "metadata": {},
   "outputs": [
    {
     "name": "stdout",
     "output_type": "stream",
     "text": [
      "0.4394328964201396\n"
     ]
    }
   ],
   "source": [
    "# Get scores. cal_upper.shape[0] == cal_lower.shape[0] == n\n",
    "cal_scores = np.maximum(cal_labels-cal_upper, cal_lower-cal_labels)\n",
    "# Get the score quantile\n",
    "qhat = np.quantile(cal_scores, np.ceil((n+1)*(1-alpha))/n, interpolation='higher')\n",
    "# Deploy (output=lower and upper adjusted quantiles)\n",
    "prediction_sets = [val_lower - qhat, val_upper + qhat]\n",
    "print(qhat)"
   ]
  },
  {
   "cell_type": "code",
   "execution_count": 6,
   "metadata": {},
   "outputs": [
    {
     "name": "stdout",
     "output_type": "stream",
     "text": [
      "The empirical coverage before calibration is: 0.7356738720441027\n",
      "The empirical coverage after calibration is: 0.9318148846656028\n"
     ]
    }
   ],
   "source": [
    "# Calculate empirical coverage (before and after calibration)\n",
    "prediction_sets_uncalibrated = [val_lower, val_upper]\n",
    "empirical_coverage_uncalibrated = ((val_labels >= prediction_sets_uncalibrated[0]) & (val_labels <= prediction_sets_uncalibrated[1])).mean()\n",
    "print(f\"The empirical coverage before calibration is: {empirical_coverage_uncalibrated}\")\n",
    "empirical_coverage = ((val_labels >= prediction_sets[0]) & (val_labels <= prediction_sets[1])).mean()\n",
    "print(f\"The empirical coverage after calibration is: {empirical_coverage}\")"
   ]
  },
  {
   "cell_type": "code",
   "execution_count": 7,
   "metadata": {
    "scrolled": true
   },
   "outputs": [
    {
     "data": {
      "image/png": "[encoded data removed]",
      "text/plain": [
       "<Figure size 432x288 with 1 Axes>"
      ]
     },
     "metadata": {},
     "output_type": "display_data"
    }
   ],
   "source": [
    "# Plot results stratifying across cancer severity (one of many covariates)\n",
    "cancer_vecs = val_X[:,40:45]\n",
    "for col in range(cancer_vecs.shape[1]):\n",
    "    one_val = cancer_vecs[:,col].max()\n",
    "    cancer_vecs[:,col] = (cancer_vecs[:,col] == one_val).astype(int)\n",
    "cancer_dx = cancer_vecs.dot(np.arange(5)+1).astype(int)\n",
    "\n",
    "# Trim missing labels\n",
    "val_labels_trimmed = val_labels[cancer_dx > 0]\n",
    "val_lower_trimmed = val_lower[cancer_dx > 0]\n",
    "val_upper_trimmed = val_upper[cancer_dx > 0]\n",
    "cancer_dx_trimmed = cancer_dx[cancer_dx > 0]\n",
    "valid_cancer_dx = np.arange(5)+1\n",
    "\n",
    "lower_uncal = [(np.e**(val_lower_trimmed[cancer_dx_trimmed == dx]) - 1).mean() for dx in valid_cancer_dx]\n",
    "lower_cal = [(np.e**(val_lower_trimmed[cancer_dx_trimmed == dx]-qhat) - 1).mean() for dx in valid_cancer_dx]\n",
    "upper_uncal = [(np.e**(val_upper_trimmed[cancer_dx_trimmed == dx]) - 1).mean() for dx in valid_cancer_dx]\n",
    "upper_cal = [(np.e**(val_upper_trimmed[cancer_dx_trimmed == dx]+qhat) - 1).mean() for dx in valid_cancer_dx]\n",
    "\n",
    "sns.set(style='white')\n",
    "sns.set_palette('pastel')\n",
    "plt.figure()\n",
    "plt_idx = np.random.choice(np.arange(val_labels_trimmed.shape[0]), size=(val_labels_trimmed.shape[0],), replace=False)\n",
    "sns.boxplot(x=cancer_dx_trimmed[plt_idx], y=np.e**val_labels_trimmed[plt_idx]-1, color='#BBD9FA', fliersize=0.2)\n",
    "plt.plot(valid_cancer_dx-1, lower_uncal, marker='_', markersize='25', linewidth=0, color='orange', label='uncalibrated')\n",
    "plt.plot(valid_cancer_dx-1, upper_uncal, marker='_', markersize='25', linewidth=0, color='orange')\n",
    "plt.plot(valid_cancer_dx-1, lower_cal, marker='_', markersize='25', linewidth=0, color='green', label='calibrated')\n",
    "plt.plot(valid_cancer_dx-1, upper_cal, marker='_', markersize='25', linewidth=0, color='green')\n",
    "plt.legend(loc='upper right')\n",
    "plt.ylim(0,80)\n",
    "plt.xlabel('Cancer severity (higher is more severe)')\n",
    "plt.ylabel('Medical expenses ($)')\n",
    "sns.despine(top=True,right=True)\n",
    "plt.show()"
   ]
  }
 ],
 "metadata": {
  "kernelspec": {
   "display_name": "Python 3.6.9 64-bit ('basic': conda)",
   "language": "python",
   "name": "python36964bitbasicconda2f330b40945f4990b03a9eb96a215891"
  },
  "language_info": {
   "codemirror_mode": {
    "name": "ipython",
    "version": 3
   },
   "file_extension": ".py",
   "mimetype": "text/x-python",
   "name": "python",
   "nbconvert_exporter": "python",
   "pygments_lexer": "ipython3",
   "version": "3.6.9"
  }
 },
 "nbformat": 4,
 "nbformat_minor": 4
}
