{
 "cells": [
  {
   "cell_type": "code",
   "execution_count": 1,
   "metadata": {},
   "outputs": [],
   "source": [
    "import os\n",
    "import json\n",
    "import numpy as np\n",
    "import matplotlib.pyplot as plt\n",
    "from matplotlib.image import imread"
   ]
  },
  {
   "cell_type": "code",
   "execution_count": 2,
   "metadata": {},
   "outputs": [],
   "source": [
    "# Load cached data\n",
    "data = np.load('../data/meps/meps-gbr.npz')\n",
    "X, labels, upper, lower = data['X'], data['y'], data['upper'], data['lower']"
   ]
  },
  {
   "cell_type": "code",
   "execution_count": 3,
   "metadata": {},
   "outputs": [],
   "source": [
    "# Problem setup\n",
    "n=1000 # number of calibration points\n",
    "alpha = 0.1 # 1-alpha is the desired coverage"
   ]
  },
  {
   "cell_type": "code",
   "execution_count": 4,
   "metadata": {},
   "outputs": [],
   "source": [
    "# Split the softmax scores into calibration and validation sets (save the shuffling)\n",
    "idx = np.array([1] * n + [0] * (labels.shape[0]-n)) > 0\n",
    "np.random.shuffle(idx)\n",
    "cal_labels, val_labels = labels[idx], labels[~idx]\n",
    "cal_upper, val_upper = upper[idx], upper[~idx]\n",
    "cal_lower, val_lower = lower[idx], lower[~idx]\n",
    "val_X = X[~idx]"
   ]
  },
  {
   "cell_type": "code",
   "execution_count": 5,
   "metadata": {},
   "outputs": [
    {
     "name": "stdout",
     "output_type": "stream",
     "text": [
      "0.4394328964201396\n"
     ]
    }
   ],
   "source": [
    "# Get scores. cal_upper.shape[0] == cal_lower.shape[0] == n\n",
    "cal_scores = np.maximum(cal_labels-cal_upper, cal_lower-cal_labels)\n",
    "# Get the score quantile\n",
    "qhat = np.quantile(cal_scores, np.ceil((n+1)*(1-alpha))/n, interpolation='higher')\n",
    "# Deploy (output=lower and upper adjusted quantiles)\n",
    "prediction_sets = [val_lower - qhat, val_upper + qhat]\n",
    "print(qhat)"
   ]
  },
  {
   "cell_type": "code",
   "execution_count": 6,
   "metadata": {},
   "outputs": [
    {
     "name": "stdout",
     "output_type": "stream",
     "text": [
      "The empirical coverage is: 0.9316698099521253\n"
     ]
    }
   ],
   "source": [
    "# Calculate empirical coverage\n",
    "empirical_coverage = ((val_labels >= prediction_sets[0]) & (val_labels <= prediction_sets[1])).mean()\n",
    "print(f\"The empirical coverage is: {empirical_coverage}\")"
   ]
  },
  {
   "cell_type": "code",
   "execution_count": 35,
   "metadata": {},
   "outputs": [],
   "source": [
    "# Plot intervals\n",
    "pov_vecs = np.zeros((val_X.shape[0],5))\n",
    "for pov_lvl in [1,2,3,4,5]:\n",
    "    one_val = np.unique(val_X[:,-10+pov_lvl]).max()\n",
    "    pov_vecs[:,pov_lvl-1] = val_X[:,-10+pov_lvl] == one_val\n",
    "poverty = pov_vecs.dot(np.arange(5)+1).astype(int)"
   ]
  },
  {
   "cell_type": "code",
   "execution_count": 52,
   "metadata": {},
   "outputs": [
    {
     "data": {
      "image/png": "[encoded data removed]",
      "text/plain": [
       "<Figure size 432x288 with 1 Axes>"
      ]
     },
     "metadata": {
      "needs_background": "light"
     },
     "output_type": "display_data"
    },
    {
     "data": {
      "image/png": "[encoded data removed]",
      "text/plain": [
       "<Figure size 432x288 with 1 Axes>"
      ]
     },
     "metadata": {
      "needs_background": "light"
     },
     "output_type": "display_data"
    }
   ],
   "source": [
    "#for pov_lvl in np.unique(poverty):\n",
    "#    print(np.e**(val_labels[poverty==pov_lvl])-1)\n",
    "#\n",
    "plt.figure()\n",
    "plt.scatter(poverty,np.e**val_labels-1)\n",
    "plt.scatter(poverty,np.e**val_upper-1)\n",
    "plt.show()\n",
    "\n",
    "plt.figure()\n",
    "plt.scatter(np.e**val_labels-1,np.e**(val_upper+qhat)-1)\n",
    "plt.show()"
   ]
  }
 ],
 "metadata": {
  "kernelspec": {
   "display_name": "Python 3.6.9 64-bit ('basic': conda)",
   "language": "python",
   "name": "python36964bitbasicconda2f330b40945f4990b03a9eb96a215891"
  },
  "language_info": {
   "codemirror_mode": {
    "name": "ipython",
    "version": 3
   },
   "file_extension": ".py",
   "mimetype": "text/x-python",
   "name": "python",
   "nbconvert_exporter": "python",
   "pygments_lexer": "ipython3",
   "version": "3.6.9"
  }
 },
 "nbformat": 4,
 "nbformat_minor": 4
}
